{
 "cells": [
  {
   "cell_type": "code",
   "execution_count": 2,
   "metadata": {},
   "outputs": [],
   "source": [
    "import cv2\n"
   ]
  },
  {
   "cell_type": "markdown",
   "metadata": {},
   "source": [
    "# Read a video stream from camera (Frame by frame)"
   ]
  },
  {
   "cell_type": "code",
   "execution_count": null,
   "metadata": {},
   "outputs": [],
   "source": []
  },
  {
   "cell_type": "code",
   "execution_count": 12,
   "metadata": {},
   "outputs": [],
   "source": [
    "cap = cv2.VideoCapture(0)\n",
    "# 0 means default camera will be activated.\n",
    "\n",
    "while True :\n",
    "    \n",
    "    ret , frame = cap.read()\n",
    "    # ret is true if frame is read by the capture , else false.\n",
    "    # frame is the video frame where image is shown.\n",
    "    \n",
    "    grayFrame = cv2.cvtColor(frame , cv2.COLOR_BGR2GRAY)\n",
    "    \n",
    "    \n",
    "    if (ret==False):\n",
    "        continue\n",
    "    \n",
    "    cv2.imshow('Video Capture Frame',frame)\n",
    "    cv2.imshow('Gray frame capture',grayFrame)\n",
    "    \n",
    "    # We want the frame to be displayed until q is pressed.\n",
    "    \n",
    "    keyPressed = cv2.waitKey(1) & 0xFF\n",
    "    # cv2.waitKey(1) waits for 1 millisecond for the q key to be pressed.\n",
    "    # It generates a 32 bit int.\n",
    "    # Hence bitwise anding with 0xFF so as to convert it into 8 bits.\n",
    "    \n",
    "    if (keyPressed == ord('q')) :\n",
    "        break \n",
    "        \n",
    "cap.release()\n",
    "cv2.destroyAllWindows()\n",
    "    \n",
    "    \n",
    "    "
   ]
  },
  {
   "cell_type": "code",
   "execution_count": null,
   "metadata": {},
   "outputs": [],
   "source": []
  },
  {
   "cell_type": "code",
   "execution_count": null,
   "metadata": {},
   "outputs": [],
   "source": []
  }
 ],
 "metadata": {
  "kernelspec": {
   "display_name": "Python 3",
   "language": "python",
   "name": "python3"
  },
  "language_info": {
   "codemirror_mode": {
    "name": "ipython",
    "version": 3
   },
   "file_extension": ".py",
   "mimetype": "text/x-python",
   "name": "python",
   "nbconvert_exporter": "python",
   "pygments_lexer": "ipython3",
   "version": "3.7.0"
  }
 },
 "nbformat": 4,
 "nbformat_minor": 2
}
